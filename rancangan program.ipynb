{
 "cells": [
  {
   "cell_type": "code",
   "execution_count": 0,
   "metadata": {
    "collapsed": false
   },
   "outputs": [
   ],
   "source": [
    "#McEliece dengan kode golay"
   ]
  },
  {
   "cell_type": "code",
   "execution_count": 2,
   "metadata": {
    "collapsed": false
   },
   "outputs": [
   ],
   "source": [
    "from sage.all import *\n",
    "import random\n",
    "import numpy as np\n",
    "from sage.crypto.util import bin_to_ascii,ascii_to_bin\n",
    "\n",
    "\n",
    "def error_vector(n,t):\n",
    "    error_vector = vector(GF(2), n)\n",
    "    points = random.sample(range(n), t)\n",
    "    for i in range(t):\n",
    "        error_vector[points[i]] += 1\n",
    "    return error_vector\n",
    "def non_singular_matrix(F, k):\n",
    "    while 1:\n",
    "        try:\n",
    "            r = random_matrix(F, k, k)\n",
    "            if r.inverse() != ZeroDivisionError:\n",
    "                break\n",
    "        except ZeroDivisionError:\n",
    "            continue\n",
    "    return r\n",
    "def rand_perm(F, n):\n",
    "    r = matrix(F, n, n)\n",
    "    points = random.sample(range(n), n)\n",
    "    for i in range(n):\n",
    "        r[i, points[i]] = 1\n",
    "    v = vector(F, n)\n",
    "    for i in range(n):\n",
    "        v += r[i]\n",
    "    assert v + v == 0\n",
    "    return r\n",
    "def generate_key(priv_key_file,pub_key_file):\n",
    "    golay = codes.GolayCode(GF(2),extended=True)\n",
    "    g = golay.generator_matrix()\n",
    "    h = golay.parity_check_matrix()\n",
    "    s = non_singular_matrix(GF(2),12)\n",
    "    p = rand_perm(GF(2), 24)\n",
    "    p1 = p.inverse()\n",
    "    s1 = s.inverse()\n",
    "    g1 = s*g*p\n",
    "    np.savez_compressed(priv_key_file, s=s,p=p, p1 = p1, s1 = s1)\n",
    "    print('priv key berhasil disimpan')\n",
    "    np.savez_compressed(pub_key_file, g1=g1)\n",
    "    print('pub key berhasil disimpan')\n",
    "def padder(bitstream, wordlength=12):\n",
    "    prefix, padding = '',''\n",
    "    length = len(bitstream)\n",
    "    remainder = length % wordlength\n",
    "    if remainder != 0:\n",
    "        padlength = wordlength - remainder\n",
    "        prefix = '{0:012b}'.format(padlength)\n",
    "        padding = '1' * padlength\n",
    "    return prefix + bitstream + padding\n",
    "def unpadder(bitstream, wordlength=12):\n",
    "    padlength = int(bitstream[:wordlength],2)\n",
    "    return bitstream[wordlength:-padlength]\n",
    "def encode(msg,pk):\n",
    "    e = error_vector(24,3)\n",
    "    c = msg*pk+e\n",
    "    return c\n",
    "def decode(c,s1,p1):\n",
    "    y = c*p1\n",
    "    d = codes.GolayCode(GF(2),extended=True).decoder()\n",
    "    ms = d.decode_to_message(y)\n",
    "    mor = ms*s1\n",
    "    return mor\n",
    "def encrypt(file_name,pub_key_file):\n",
    "    filename = file_name\n",
    "    key = np.load(pub_key_file, allow_pickle=True)\n",
    "    pk = matrix(GF(2), key['g1'])\n",
    "    with open(filename,\"rb\") as fh:\n",
    "        bytestream = fh.read()\n",
    "        bytestream = bytearray(bytestream)\n",
    "    blok = 0\n",
    "    encodeds = []\n",
    "    for i, b in enumerate(bytestream):\n",
    "        binary = '{0:08b}'.format(b)\n",
    "        binary = padder(binary)\n",
    "        encoded = ''\n",
    "        for index in range(0, len(binary), 12):\n",
    "            word = binary[index:index+12]\n",
    "            f = vector(GF(2),word)\n",
    "            en = encode(f,pk)\n",
    "            for i in en:\n",
    "                encoded += str(i)\n",
    "            blok += 1\n",
    "        for index in range(0, len(encoded), 8):\n",
    "            word = encoded[index:index+8]\n",
    "            word = int(word,2)\n",
    "            encodeds.append(word)\n",
    "        print(\"{0} block telah dienkripsi\".format(blok))\n",
    "    encodeds = bytearray(encodeds)\n",
    "    fh = open(\"enc_\"+filename,\"wb\")\n",
    "    fh.write(encodeds)\n",
    "    fh.close()\n",
    "    print(encodeds)\n",
    "    print(\"enkripsi selesai\")\n",
    "def decrypt(file_name,priv_key_file):\n",
    "    filename = file_name\n",
    "    key = np.load(priv_key_file,allow_pickle=True)\n",
    "    S = matrix(GF(2),key['s'])\n",
    "    P = matrix(GF(2),key['p'])\n",
    "    Sinv = matrix(GF(2),key['s1'])\n",
    "    Pinv = matrix(GF(2),key['p1'])\n",
    "    with open(filename,\"rb\") as fh:\n",
    "        bytestream = fh.read()\n",
    "        bytestream = bytearray(bytestream)\n",
    "    encoded = ''\n",
    "    decodeds = []\n",
    "    for i, b in enumerate(bytestream):\n",
    "        binary = '{0:08b}'.format(b)\n",
    "        encoded += binary\n",
    "    blok = 0\n",
    "    decodeds = ''\n",
    "    decoded = ''\n",
    "    for index in range(0,len(encoded),24):\n",
    "        word = encoded[index:index+24]\n",
    "        f = vector(GF(2),word)\n",
    "        de = decode(f,Sinv,Pinv)\n",
    "        for i in de:\n",
    "            decoded += str(i)\n",
    "        blok+=1\n",
    "        print(\"{0} block dari {1} block\".format(blok,int(len(encoded)/24)))\n",
    "    for index in range(0,len(decoded),24):\n",
    "        word = decoded[index:index+24]\n",
    "        word = unpadder(word)\n",
    "        decodeds+= word\n",
    "    decoded_list = []\n",
    "    for index in range(0, len(decodeds), 8):\n",
    "        word = decodeds[index:index+8]\n",
    "        word = int(word,2)\n",
    "        decoded_list.append(word)\n",
    "    decoded_list = bytearray(decoded_list)\n",
    "    fh = open(\"dec_\"+filename,\"wb\")\n",
    "    fh.write(decoded_list)\n",
    "    fh.close()\n",
    "    print(\"dekripsi selesai\")\n"
   ]
  },
  {
   "cell_type": "code",
   "execution_count": 2,
   "metadata": {
    "collapsed": false
   },
   "outputs": [
    {
     "name": "stdout",
     "output_type": "stream",
     "text": [
      "195\n"
     ]
    }
   ],
   "source": [
    "with open(\"x.png\",\"rb\") as fh:\n",
    "    bytestream = fh.read()\n",
    "    bitstream = ''\n",
    "    for i, b in enumerate(bytestream):\n",
    "        binary = '{0:08b}'.format(b)\n",
    "        bitstream += binary\n",
    "    print(len(bytestream))"
   ]
  },
  {
   "cell_type": "code",
   "execution_count": 3,
   "metadata": {
    "collapsed": false,
    "scrolled": true
   },
   "outputs": [
    {
     "name": "stdout",
     "output_type": "stream",
     "text": [
      "2 block telah dienkripsi\n",
      "4 block telah dienkripsi\n",
      "6 block telah dienkripsi\n",
      "8 block telah dienkripsi\n",
      "10 block telah dienkripsi\n",
      "12 block telah dienkripsi\n",
      "14 block telah dienkripsi\n",
      "16 block telah dienkripsi\n",
      "18 block telah dienkripsi\n",
      "20 block telah dienkripsi\n",
      "22 block telah dienkripsi\n",
      "24 block telah dienkripsi\n",
      "26 block telah dienkripsi\n",
      "28 block telah dienkripsi\n",
      "30 block telah dienkripsi\n",
      "32 block telah dienkripsi\n",
      "34 block telah dienkripsi\n",
      "36 block telah dienkripsi\n",
      "38 block telah dienkripsi\n",
      "40 block telah dienkripsi\n",
      "42 block telah dienkripsi\n",
      "44 block telah dienkripsi\n",
      "46 block telah dienkripsi\n",
      "48 block telah dienkripsi\n",
      "50 block telah dienkripsi\n",
      "52 block telah dienkripsi\n",
      "54 block telah dienkripsi\n",
      "56 block telah dienkripsi\n",
      "58 block telah dienkripsi\n",
      "60 block telah dienkripsi\n",
      "62 block telah dienkripsi\n",
      "64 block telah dienkripsi\n",
      "66 block telah dienkripsi\n",
      "68 block telah dienkripsi\n",
      "70 block telah dienkripsi\n",
      "72 block telah dienkripsi\n",
      "74 block telah dienkripsi\n",
      "76 block telah dienkripsi\n",
      "78 block telah dienkripsi\n",
      "80 block telah dienkripsi\n",
      "82 block telah dienkripsi\n",
      "84 block telah dienkripsi\n",
      "86 block telah dienkripsi\n",
      "88 block telah dienkripsi\n",
      "90 block telah dienkripsi\n",
      "92 block telah dienkripsi\n",
      "94 block telah dienkripsi\n",
      "96 block telah dienkripsi\n",
      "98 block telah dienkripsi\n",
      "100 block telah dienkripsi\n",
      "102 block telah dienkripsi\n",
      "104 block telah dienkripsi\n",
      "106 block telah dienkripsi\n",
      "108 block telah dienkripsi\n",
      "110 block telah dienkripsi\n",
      "112 block telah dienkripsi\n",
      "114 block telah dienkripsi\n",
      "116 block telah dienkripsi\n",
      "118 block telah dienkripsi\n",
      "120 block telah dienkripsi\n",
      "122 block telah dienkripsi\n",
      "124 block telah dienkripsi\n",
      "126 block telah dienkripsi\n",
      "128 block telah dienkripsi\n",
      "130 block telah dienkripsi\n",
      "132 block telah dienkripsi\n",
      "134 block telah dienkripsi\n",
      "136 block telah dienkripsi\n",
      "138 block telah dienkripsi\n",
      "140 block telah dienkripsi\n",
      "142 block telah dienkripsi\n",
      "144 block telah dienkripsi\n",
      "146 block telah dienkripsi\n",
      "148 block telah dienkripsi\n",
      "150 block telah dienkripsi\n",
      "152 block telah dienkripsi\n",
      "154 block telah dienkripsi\n",
      "156 block telah dienkripsi\n",
      "158 block telah dienkripsi\n",
      "160 block telah dienkripsi\n",
      "162 block telah dienkripsi\n",
      "164 block telah dienkripsi\n",
      "166 block telah dienkripsi\n",
      "168 block telah dienkripsi\n",
      "170 block telah dienkripsi\n",
      "172 block telah dienkripsi\n",
      "174 block telah dienkripsi\n",
      "176 block telah dienkripsi\n",
      "178 block telah dienkripsi\n",
      "180 block telah dienkripsi\n",
      "182 block telah dienkripsi\n",
      "184 block telah dienkripsi\n",
      "186 block telah dienkripsi\n",
      "188 block telah dienkripsi\n",
      "190 block telah dienkripsi\n",
      "192 block telah dienkripsi\n",
      "194 block telah dienkripsi\n",
      "196 block telah dienkripsi\n",
      "198 block telah dienkripsi\n",
      "200 block telah dienkripsi\n",
      "202 block telah dienkripsi\n",
      "204 block telah dienkripsi\n",
      "206 block telah dienkripsi\n",
      "208 block telah dienkripsi\n",
      "210 block telah dienkripsi\n",
      "212 block telah dienkripsi\n",
      "214 block telah dienkripsi\n",
      "216 block telah dienkripsi\n",
      "218 block telah dienkripsi\n",
      "220 block telah dienkripsi\n",
      "222 block telah dienkripsi\n",
      "224 block telah dienkripsi\n",
      "226 block telah dienkripsi\n",
      "228 block telah dienkripsi\n",
      "230 block telah dienkripsi\n",
      "232 block telah dienkripsi\n",
      "234 block telah dienkripsi\n",
      "236 block telah dienkripsi\n",
      "238 block telah dienkripsi\n",
      "240 block telah dienkripsi\n",
      "242 block telah dienkripsi\n",
      "244 block telah dienkripsi\n",
      "246 block telah dienkripsi\n",
      "248 block telah dienkripsi\n",
      "250 block telah dienkripsi\n",
      "252 block telah dienkripsi\n",
      "254 block telah dienkripsi\n",
      "256 block telah dienkripsi\n",
      "258 block telah dienkripsi\n",
      "260 block telah dienkripsi\n",
      "262 block telah dienkripsi\n",
      "264 block telah dienkripsi\n",
      "266 block telah dienkripsi\n",
      "268 block telah dienkripsi\n",
      "270 block telah dienkripsi\n"
     ]
    },
    {
     "name": "stdout",
     "output_type": "stream",
     "text": [
      "272 block telah dienkripsi\n",
      "274 block telah dienkripsi\n",
      "276 block telah dienkripsi\n",
      "278 block telah dienkripsi\n",
      "280 block telah dienkripsi\n",
      "282 block telah dienkripsi\n",
      "284 block telah dienkripsi\n",
      "286 block telah dienkripsi\n",
      "288 block telah dienkripsi\n",
      "290 block telah dienkripsi\n",
      "292 block telah dienkripsi\n",
      "294 block telah dienkripsi\n",
      "296 block telah dienkripsi\n",
      "298 block telah dienkripsi\n",
      "300 block telah dienkripsi\n",
      "302 block telah dienkripsi\n",
      "304 block telah dienkripsi\n",
      "306 block telah dienkripsi\n",
      "308 block telah dienkripsi\n",
      "310 block telah dienkripsi\n",
      "312 block telah dienkripsi\n",
      "314 block telah dienkripsi\n",
      "316 block telah dienkripsi\n",
      "318 block telah dienkripsi\n",
      "320 block telah dienkripsi\n",
      "322 block telah dienkripsi\n",
      "324 block telah dienkripsi\n",
      "326 block telah dienkripsi\n",
      "328 block telah dienkripsi\n",
      "330 block telah dienkripsi\n",
      "332 block telah dienkripsi\n",
      "334 block telah dienkripsi\n",
      "336 block telah dienkripsi\n",
      "338 block telah dienkripsi\n",
      "340 block telah dienkripsi\n",
      "342 block telah dienkripsi\n",
      "344 block telah dienkripsi\n",
      "346 block telah dienkripsi\n",
      "348 block telah dienkripsi\n",
      "350 block telah dienkripsi\n",
      "352 block telah dienkripsi\n",
      "354 block telah dienkripsi\n",
      "356 block telah dienkripsi\n",
      "358 block telah dienkripsi\n",
      "360 block telah dienkripsi\n",
      "362 block telah dienkripsi\n",
      "364 block telah dienkripsi\n",
      "366 block telah dienkripsi\n",
      "368 block telah dienkripsi\n",
      "370 block telah dienkripsi\n",
      "372 block telah dienkripsi\n",
      "374 block telah dienkripsi\n",
      "376 block telah dienkripsi\n",
      "378 block telah dienkripsi\n",
      "380 block telah dienkripsi\n",
      "382 block telah dienkripsi\n",
      "384 block telah dienkripsi\n",
      "386 block telah dienkripsi\n",
      "388 block telah dienkripsi\n",
      "390 block telah dienkripsi\n",
      "bytearray(b'\\xea\\xf8gZ\\x93\\xf1\\xe3\\xf8k\\xd5GU\\xe3\\xc4g\\x0e\\xf8\\r\\xeb|f\\x12\\x1f\\xeec\\xf8\\'g\\xcb\\x04\\xe3\\xf8\\xe6\\x08 \\x86\\xe7\\xf8G\\xf3\\x1f\\xdb\\xf7\\xecg\\x18y\\x96\\xeb\\xfdcH\\xb1\\x9b\\xc2\\xfc\\'K\\xb5\\x17\\xeb\\xd8gk\\xb9\\x1a\\xf2\\xfcG7\\x0b@b\\xfce\\xf1\\xc2\\x9bg\\xfdg\\xf8\\xe9\\x19\\xe9\\xecg\\xc8x\\x96\\xe7\\xfdc\\x06\\x8f\\xbd\\xc3\\xfcu\\x0b\\xb1\\x99\\xa2\\xbcgJ\\xa9\\x1b\\xe2\\xfc\\xe6K\\xb3\\x11\\xe3\\xeag\\t;\\x96\\xef\\xf8gJ\\x91\\x1f\\xe3|kK\\xf4\\x1b\\xe3\\xfdd\\x0f\\xb1\\x1f\\xfb\\xbcg\\x08\\xb3\\x9e\\xe3\\xfed\\xc3y\\xde\\xeb\\xdcf-\\xa0\\xfb\\xf3\\xe8gc\\xb1\\x9b\\xc3\\xbcwJ\\xb0\\x13\\xf3\\xe4gi\\xb1\\x9b\\xe3\\xbc\\xe3\\xdf\\xbe\\xd8\\xe7\\xfcO\\xb7cL\\xf2\\xecg\\xcfF\\x17\\xe2\\xfdw\\xf6\\x14\\xf7\\xe3\\xe8ok\\xa9\\x1b\\xe1\\xfcu\\xcf\\xf1\\x1b\\xe3\\xf8mK\\xb2\\x9b\\xf3|w\\x94\\xe4\\x03\\xe3\\\\e\\xf8\\xa2\\xcb\\xab\\xfeg\\xc9\\xf8\\x96\\xeb\\xfag!\\n>c\\xbc\\'rZ\\xcd\\xe7\\xdce\\xe0\\x15\\x97\\xe3\\xf9o\\xd8\\x10P\\xee\\xfcg\\xfa\\x9a\\x98\\xeb\\xfc\\x7fY\\x92\\xf9\\xa3|cp\\x9b\\x83\\xe7\\xfc/\\t5\\x94\\xeb\\xfef\\x9bi\\xe4\\xe3\\xfd&iP\\xa7\\xe3\\xc8gz\\x02\\xe6\\xe3\\xfc\\xeb\\xe2\\xaa\\x13\\xe3\\xf5GW\\x00f\\xc3\\xfc%\\x9c\\xab\\xd7\\xe1\\xfca\\xbd\\xad\\xd8\\xc1\\xecg\\x12\\x0c\\xc7\\xe3\\xfc}`\\xf4$\\xe0\\xbcgk\\x06?\\xa3|o\\xfe\\rX\\xa3\\xfdf\\xb1Avc\\xf4o\\xcd|\\x85c\\xfdf\\xf0\\xffR\\xe9\\xfdg\\xed\\xcf\\xda\\xf1\\xfc\\'{\\x9e\\xdb\\xe3lG\\xbe<|\\xe3\\xdfg\\x0fN%\\xe3\\xfd&T)b\\xe3\\xfe\\xc7B\\xdb\\xb9\\xe2\\xb8gA\\xba\\xf9\\xeb\\xfcsf\\x1d\\x8f\\xc9\\xfcg+r\\xd0\\xe1\\xfcs\\xd8T\\xf9\\xc3\\xfcE\\xacK\\x0e\\xc7\\xfcw\\\\%\\x88\\xe3\\xac\\xe7\\xcd\\xd3\\x92\\xe7|\\'\\x80u\\xad\\xeb\\xfcv\\xd8\\x0e5\\xe3\\xec&\\xa1v\\x94\\xc3\\xf0g\\x81\\xd5\\x14\\xd2\\xfcg|^\\x9d\\xe1\\xfc\\xe5\\x03\\xad\\x88\\xe3\\xde\\'\\xda\\x1f\\x15\\xc3\\xdcw\\xb8\\xf7\\xe8\\xe3\\xfd\\xa7\\xa4\\xb1\\x93\\xe3\\xfc\\xe1}\\xc0R\\xe3\\\\G\\xafj\\x8c\\xe1|\\'\\x8e\\x98Y\\xf7\\xbcg\\x15\\x88\\xca\\xa3\\xfc/\\x16/\\xad\\xa3\\xfcke\\x02<g\\xfc\\'Q\\x99\\xe1\\xe1\\xf0g/\\xb0\\xa8c\\xf4o\\x80\\x9a`\\xd3|g\\n\\xcc)\\xcb\\xfc\\')\\xcbI\\xeb|w|\\x06G\\xe3\\xdc7\\xf0&\\xd7\\xe3|s\\xfe\\x9d\\xb0\\xe1\\xecGza\\xb6\\xc3\\xecG\\xbfXI\\x83\\xfco\\xb0@d\\xeb\\xb8g\\xa85Gc\\xdcf\\x98\\xb8K\\xc3\\xfc\\xe6\\x07N$\\xe5\\xbcge\\xf9\\xcb\\xe3\\xefgiD\\xae\\xc3\\xecG\\x1cr\\xd4\\xe7\\xe8g\\x9b\\xcd\\xf2\\xe3\\xf4u<\\xb3\\xbe\\xc3\\xf9gg\\xdf\\x92\\xaf\\xfcg\\xed|\\xe4\\xe7\\xf4f\\xb7~m\\xf1|g{uGc\\xfc\\xe63\\xcc\\xc1\\xe7\\xf0gP\\tb\\xc3\\xf8w\\xc2\\xf5j\\xeb\\xf4w\\xfb5+c\\xdceF\\x19\\x86\\xe5\\xfcw\\x0bQ\\xc4\\xe2\\xdc\\'\\xda\\x00\\xf6\\xa3\\xf4w\\x9e\\xffo\\xa3\\xf8c\\xe0\\xa3\\x99\\xf3\\xec\\xe7;Q\\x0e\\xf3\\xf4\\xe7\\xd57X\\xe7\\xbcf\\x1c\\tf\\xe3\\xeef|BD\\xe3\\xf8\\xef\\xc1\\x13\\x0e\\xe3\\xf8v\\x81\\xf0\\x91\\xf3\\xfcs\\x1f\\xaa\\x99\\xa3\\xbccd\\xea\\x0b\\xe7\\xf4\\'\\x9b\\xd5W\\xe3\\xdefQ\\xf6H\\xe7\\xffg/d1\\xeb\\xfc\\xc7\"\\xee\\xba\\xcb\\xfcf%\\xdf \\xe3\\xb8w\\xb26\\xcd\\xe3\\xeew\\xd7w\\xf7\\xf3\\xf4eJ5\\'\\xe3|F\\x99(\\xea\\xf3\\xf8\\'\\xdfN~\\xc3\\xf4f\\xdc\\x9d\\xd0c\\xfc7\\x8ak,\\xe3\\xf9\\xe7}C\\xd4\\xa2\\xfc\\'\\x08\\xf28\\xf5\\xfcgTl\\xcc\\xf3\\xecw\\xc8\\x84\\x82\\xe1\\xf4\\xe7\\x13/\\x85\\xcb\\xbcg\\x97\\x1b.\\xe3\\xecvm\\xdb\\x96\\xe3mg\\x9d4O\\xe1|o2)\\xfb\\xeb\\xecfD#\\x12\\xf3\\xfdf\\xba\\xe3h\\xe7\\xfcb\\xd1\\xa2\\xdb\\xc3\\xecc\\xc5t%\\xf3\\xf8f\\xad>=c\\xfc\\xc7\\x9f\\xed\\xa8\\xe7\\xbcfmR#\\xa5\\xfcg\\xcb\\xddw\\xe7\\xf4f\\xad\\x11\\x84\\xe1\\xfe\\'\\xbd\\x10i\\xe7\\xfefe9\\x83\\xe9\\xbcg\\xa3`\\x16\\xe3\\xf8\\xefR\\nZ\\xe1\\xfc\\xe3\\xb7\\xa70c\\xdco\\xf9G\\xe5\\xa3}g\\x93#l\\xe2\\xfcmL1\\x9e\\xe3\\xdcO\\x8b\\x9a#\\xe3\\xbee\\xcc\\'\\xa7\\xe3\\xfc}Z\\xbb\\xe3\\x83\\xf4g\\x10t\\xf5\\xa3|\\xe7F\\x87\\xf0k\\xf4gW\\x7f\\xcb\\xe7}g\\x17\\xaf\\x98c\\xfee\\xb6G\\x0c\\xe3\\xfdm\\'_\\x1a\\xc2\\xfcw\\x817\\x8d\\xc3\\xfcba\\x8a\\x8c\\xe3|\\xc79\\xe7b\\xb3\\xfce\\xd7\\xf5*\\xe3<\\xe7\\x95\\x83\\\\\\xeb\\xf4\\'\\xf7\\x1c]\\xe2xg\\x99\\x1d\\x7f\\xa0\\xfcgKQ\\x1br\\xfcgN\\xb3\\x1b\\xa3\\xfc\\xe6K0[\\xe1|wJ\\x91\\x1f\\xe3\\xfdv\\xe1\\x82[\\xe1\\xf5g\\x80S\"\\xe1\\xf8f\\x8e\\xf8\\x03\\xe3\\xf8#\\xcdx\\xe4\\xe3\\xdc\\xe6\\x81@f\\xe3\\xfeu\\xbfa\\xf2\\xa3tg\\xdc\\x9dz\\xe3\\xe6g\\x14L\\xca')\n",
      "enkripsi selesai\n"
     ]
    }
   ],
   "source": [
    "#enkripsi\n",
    "filename = \"x.png\"\n",
    "key = np.load(\"public.npz\", allow_pickle=True)\n",
    "\n",
    "pk = matrix(GF(2), key['g1'])\n",
    "with open(filename,\"rb\") as fh:\n",
    "    bytestream = fh.read()\n",
    "    bytestream = bytearray(bytestream)\n",
    "blok = 0\n",
    "encodeds = []\n",
    "for i, b in enumerate(bytestream):\n",
    "    binary = '{0:08b}'.format(b)\n",
    "    binary = padder(binary)\n",
    "    encoded = ''\n",
    "    for index in range(0, len(binary), 12):\n",
    "        word = binary[index:index+12]\n",
    "        f = vector(GF(2),word)\n",
    "        en = encode(f,pk)\n",
    "        for i in en:\n",
    "            encoded += str(i)\n",
    "        blok += 1\n",
    "    for index in range(0, len(encoded), 8):\n",
    "        word = encoded[index:index+8]\n",
    "        word = int(word,2)\n",
    "        encodeds.append(word)\n",
    "    print(\"{0} block telah dienkripsi\".format(blok))\n",
    "encodeds = bytearray(encodeds)\n",
    "fh = open(\"enc_\"+filename,\"wb\")\n",
    "fh.write(encodeds)\n",
    "fh.close()\n",
    "print(encodeds)\n",
    "print(\"enkripsi selesai\")"
   ]
  },
  {
   "cell_type": "code",
   "execution_count": 3,
   "metadata": {
    "collapsed": false
   },
   "outputs": [
    {
     "name": "stdout",
     "output_type": "stream",
     "text": [
      "1 block dari 390 block\n"
     ]
    },
    {
     "name": "stdout",
     "output_type": "stream",
     "text": [
      "2 block dari 390 block\n"
     ]
    },
    {
     "name": "stdout",
     "output_type": "stream",
     "text": [
      "3 block dari 390 block\n"
     ]
    },
    {
     "name": "stdout",
     "output_type": "stream",
     "text": [
      "4 block dari 390 block\n"
     ]
    },
    {
     "name": "stdout",
     "output_type": "stream",
     "text": [
      "5 block dari 390 block\n"
     ]
    },
    {
     "name": "stdout",
     "output_type": "stream",
     "text": [
      "6 block dari 390 block\n"
     ]
    },
    {
     "name": "stdout",
     "output_type": "stream",
     "text": [
      "7 block dari 390 block\n"
     ]
    },
    {
     "name": "stdout",
     "output_type": "stream",
     "text": [
      "8 block dari 390 block\n"
     ]
    },
    {
     "name": "stdout",
     "output_type": "stream",
     "text": [
      "9 block dari 390 block\n"
     ]
    },
    {
     "name": "stdout",
     "output_type": "stream",
     "text": [
      "10 block dari 390 block\n"
     ]
    },
    {
     "name": "stdout",
     "output_type": "stream",
     "text": [
      "11 block dari 390 block\n"
     ]
    },
    {
     "name": "stdout",
     "output_type": "stream",
     "text": [
      "12 block dari 390 block\n"
     ]
    },
    {
     "name": "stdout",
     "output_type": "stream",
     "text": [
      "13 block dari 390 block\n"
     ]
    },
    {
     "name": "stdout",
     "output_type": "stream",
     "text": [
      "14 block dari 390 block\n"
     ]
    },
    {
     "name": "stdout",
     "output_type": "stream",
     "text": [
      "15 block dari 390 block\n"
     ]
    },
    {
     "name": "stdout",
     "output_type": "stream",
     "text": [
      "16 block dari 390 block\n"
     ]
    },
    {
     "name": "stdout",
     "output_type": "stream",
     "text": [
      "17 block dari 390 block\n"
     ]
    },
    {
     "name": "stdout",
     "output_type": "stream",
     "text": [
      "18 block dari 390 block\n"
     ]
    },
    {
     "name": "stdout",
     "output_type": "stream",
     "text": [
      "19 block dari 390 block\n"
     ]
    },
    {
     "name": "stdout",
     "output_type": "stream",
     "text": [
      "20 block dari 390 block\n"
     ]
    },
    {
     "name": "stdout",
     "output_type": "stream",
     "text": [
      "21 block dari 390 block\n"
     ]
    },
    {
     "name": "stdout",
     "output_type": "stream",
     "text": [
      "22 block dari 390 block\n"
     ]
    },
    {
     "name": "stdout",
     "output_type": "stream",
     "text": [
      "23 block dari 390 block\n"
     ]
    },
    {
     "name": "stdout",
     "output_type": "stream",
     "text": [
      "24 block dari 390 block\n"
     ]
    },
    {
     "name": "stdout",
     "output_type": "stream",
     "text": [
      "25 block dari 390 block\n"
     ]
    },
    {
     "name": "stdout",
     "output_type": "stream",
     "text": [
      "26 block dari 390 block\n"
     ]
    },
    {
     "name": "stdout",
     "output_type": "stream",
     "text": [
      "27 block dari 390 block\n"
     ]
    },
    {
     "name": "stdout",
     "output_type": "stream",
     "text": [
      "28 block dari 390 block\n"
     ]
    },
    {
     "name": "stdout",
     "output_type": "stream",
     "text": [
      "29 block dari 390 block\n"
     ]
    },
    {
     "name": "stdout",
     "output_type": "stream",
     "text": [
      "30 block dari 390 block\n"
     ]
    },
    {
     "name": "stdout",
     "output_type": "stream",
     "text": [
      "31 block dari 390 block\n"
     ]
    },
    {
     "name": "stdout",
     "output_type": "stream",
     "text": [
      "32 block dari 390 block\n"
     ]
    },
    {
     "name": "stdout",
     "output_type": "stream",
     "text": [
      "33 block dari 390 block\n"
     ]
    },
    {
     "name": "stdout",
     "output_type": "stream",
     "text": [
      "34 block dari 390 block\n"
     ]
    },
    {
     "name": "stdout",
     "output_type": "stream",
     "text": [
      "35 block dari 390 block\n"
     ]
    },
    {
     "name": "stdout",
     "output_type": "stream",
     "text": [
      "36 block dari 390 block\n"
     ]
    },
    {
     "name": "stdout",
     "output_type": "stream",
     "text": [
      "37 block dari 390 block\n"
     ]
    },
    {
     "name": "stdout",
     "output_type": "stream",
     "text": [
      "38 block dari 390 block\n"
     ]
    },
    {
     "name": "stdout",
     "output_type": "stream",
     "text": [
      "39 block dari 390 block\n"
     ]
    },
    {
     "name": "stdout",
     "output_type": "stream",
     "text": [
      "40 block dari 390 block\n"
     ]
    },
    {
     "name": "stdout",
     "output_type": "stream",
     "text": [
      "41 block dari 390 block\n"
     ]
    },
    {
     "name": "stdout",
     "output_type": "stream",
     "text": [
      "42 block dari 390 block\n"
     ]
    },
    {
     "name": "stdout",
     "output_type": "stream",
     "text": [
      "43 block dari 390 block\n"
     ]
    },
    {
     "name": "stdout",
     "output_type": "stream",
     "text": [
      "44 block dari 390 block\n"
     ]
    },
    {
     "name": "stdout",
     "output_type": "stream",
     "text": [
      "45 block dari 390 block\n"
     ]
    },
    {
     "name": "stdout",
     "output_type": "stream",
     "text": [
      "46 block dari 390 block\n"
     ]
    },
    {
     "name": "stdout",
     "output_type": "stream",
     "text": [
      "47 block dari 390 block\n"
     ]
    },
    {
     "name": "stdout",
     "output_type": "stream",
     "text": [
      "48 block dari 390 block\n"
     ]
    },
    {
     "name": "stdout",
     "output_type": "stream",
     "text": [
      "49 block dari 390 block\n"
     ]
    },
    {
     "name": "stdout",
     "output_type": "stream",
     "text": [
      "50 block dari 390 block\n"
     ]
    },
    {
     "name": "stdout",
     "output_type": "stream",
     "text": [
      "51 block dari 390 block\n"
     ]
    },
    {
     "name": "stdout",
     "output_type": "stream",
     "text": [
      "52 block dari 390 block\n"
     ]
    },
    {
     "name": "stdout",
     "output_type": "stream",
     "text": [
      "53 block dari 390 block\n"
     ]
    },
    {
     "name": "stdout",
     "output_type": "stream",
     "text": [
      "54 block dari 390 block\n"
     ]
    },
    {
     "name": "stdout",
     "output_type": "stream",
     "text": [
      "55 block dari 390 block\n"
     ]
    },
    {
     "name": "stdout",
     "output_type": "stream",
     "text": [
      "56 block dari 390 block\n"
     ]
    },
    {
     "name": "stdout",
     "output_type": "stream",
     "text": [
      "57 block dari 390 block\n"
     ]
    },
    {
     "name": "stdout",
     "output_type": "stream",
     "text": [
      "58 block dari 390 block\n"
     ]
    },
    {
     "name": "stdout",
     "output_type": "stream",
     "text": [
      "59 block dari 390 block\n"
     ]
    },
    {
     "name": "stdout",
     "output_type": "stream",
     "text": [
      "60 block dari 390 block\n"
     ]
    },
    {
     "name": "stdout",
     "output_type": "stream",
     "text": [
      "61 block dari 390 block\n"
     ]
    },
    {
     "name": "stdout",
     "output_type": "stream",
     "text": [
      "62 block dari 390 block\n"
     ]
    },
    {
     "name": "stdout",
     "output_type": "stream",
     "text": [
      "63 block dari 390 block\n"
     ]
    },
    {
     "name": "stdout",
     "output_type": "stream",
     "text": [
      "64 block dari 390 block\n"
     ]
    },
    {
     "name": "stdout",
     "output_type": "stream",
     "text": [
      "65 block dari 390 block\n"
     ]
    },
    {
     "name": "stdout",
     "output_type": "stream",
     "text": [
      "66 block dari 390 block\n"
     ]
    },
    {
     "name": "stdout",
     "output_type": "stream",
     "text": [
      "67 block dari 390 block\n"
     ]
    },
    {
     "name": "stdout",
     "output_type": "stream",
     "text": [
      "68 block dari 390 block\n"
     ]
    },
    {
     "name": "stdout",
     "output_type": "stream",
     "text": [
      "69 block dari 390 block\n"
     ]
    },
    {
     "name": "stdout",
     "output_type": "stream",
     "text": [
      "70 block dari 390 block\n"
     ]
    },
    {
     "name": "stdout",
     "output_type": "stream",
     "text": [
      "71 block dari 390 block\n"
     ]
    },
    {
     "name": "stdout",
     "output_type": "stream",
     "text": [
      "72 block dari 390 block\n"
     ]
    },
    {
     "name": "stdout",
     "output_type": "stream",
     "text": [
      "73 block dari 390 block\n"
     ]
    },
    {
     "name": "stdout",
     "output_type": "stream",
     "text": [
      "74 block dari 390 block\n"
     ]
    },
    {
     "name": "stdout",
     "output_type": "stream",
     "text": [
      "75 block dari 390 block\n"
     ]
    },
    {
     "name": "stdout",
     "output_type": "stream",
     "text": [
      "76 block dari 390 block\n"
     ]
    },
    {
     "name": "stdout",
     "output_type": "stream",
     "text": [
      "77 block dari 390 block\n"
     ]
    },
    {
     "name": "stdout",
     "output_type": "stream",
     "text": [
      "78 block dari 390 block\n"
     ]
    },
    {
     "name": "stdout",
     "output_type": "stream",
     "text": [
      "79 block dari 390 block\n"
     ]
    },
    {
     "name": "stdout",
     "output_type": "stream",
     "text": [
      "80 block dari 390 block\n"
     ]
    },
    {
     "name": "stdout",
     "output_type": "stream",
     "text": [
      "81 block dari 390 block\n"
     ]
    },
    {
     "name": "stdout",
     "output_type": "stream",
     "text": [
      "82 block dari 390 block\n"
     ]
    },
    {
     "name": "stdout",
     "output_type": "stream",
     "text": [
      "83 block dari 390 block\n"
     ]
    },
    {
     "name": "stdout",
     "output_type": "stream",
     "text": [
      "84 block dari 390 block\n"
     ]
    },
    {
     "name": "stdout",
     "output_type": "stream",
     "text": [
      "85 block dari 390 block\n"
     ]
    },
    {
     "name": "stdout",
     "output_type": "stream",
     "text": [
      "86 block dari 390 block\n"
     ]
    },
    {
     "name": "stdout",
     "output_type": "stream",
     "text": [
      "87 block dari 390 block\n"
     ]
    },
    {
     "name": "stdout",
     "output_type": "stream",
     "text": [
      "88 block dari 390 block\n"
     ]
    },
    {
     "name": "stdout",
     "output_type": "stream",
     "text": [
      "89 block dari 390 block\n"
     ]
    },
    {
     "name": "stdout",
     "output_type": "stream",
     "text": [
      "90 block dari 390 block\n"
     ]
    },
    {
     "name": "stdout",
     "output_type": "stream",
     "text": [
      "91 block dari 390 block\n"
     ]
    },
    {
     "name": "stdout",
     "output_type": "stream",
     "text": [
      "92 block dari 390 block\n"
     ]
    },
    {
     "name": "stdout",
     "output_type": "stream",
     "text": [
      "93 block dari 390 block\n"
     ]
    },
    {
     "name": "stdout",
     "output_type": "stream",
     "text": [
      "94 block dari 390 block\n"
     ]
    },
    {
     "name": "stdout",
     "output_type": "stream",
     "text": [
      "95 block dari 390 block\n"
     ]
    },
    {
     "name": "stdout",
     "output_type": "stream",
     "text": [
      "96 block dari 390 block\n"
     ]
    },
    {
     "name": "stdout",
     "output_type": "stream",
     "text": [
      "97 block dari 390 block\n"
     ]
    },
    {
     "name": "stdout",
     "output_type": "stream",
     "text": [
      "98 block dari 390 block\n"
     ]
    },
    {
     "name": "stdout",
     "output_type": "stream",
     "text": [
      "99 block dari 390 block\n"
     ]
    },
    {
     "name": "stdout",
     "output_type": "stream",
     "text": [
      "100 block dari 390 block\n"
     ]
    },
    {
     "name": "stdout",
     "output_type": "stream",
     "text": [
      "101 block dari 390 block\n"
     ]
    },
    {
     "name": "stdout",
     "output_type": "stream",
     "text": [
      "102 block dari 390 block\n"
     ]
    },
    {
     "name": "stdout",
     "output_type": "stream",
     "text": [
      "103 block dari 390 block\n"
     ]
    },
    {
     "name": "stdout",
     "output_type": "stream",
     "text": [
      "104 block dari 390 block\n"
     ]
    },
    {
     "name": "stdout",
     "output_type": "stream",
     "text": [
      "105 block dari 390 block\n"
     ]
    },
    {
     "name": "stdout",
     "output_type": "stream",
     "text": [
      "106 block dari 390 block\n"
     ]
    },
    {
     "name": "stdout",
     "output_type": "stream",
     "text": [
      "107 block dari 390 block\n"
     ]
    },
    {
     "name": "stdout",
     "output_type": "stream",
     "text": [
      "108 block dari 390 block\n"
     ]
    },
    {
     "name": "stdout",
     "output_type": "stream",
     "text": [
      "109 block dari 390 block\n"
     ]
    },
    {
     "name": "stdout",
     "output_type": "stream",
     "text": [
      "110 block dari 390 block\n"
     ]
    },
    {
     "name": "stdout",
     "output_type": "stream",
     "text": [
      "111 block dari 390 block\n"
     ]
    },
    {
     "name": "stdout",
     "output_type": "stream",
     "text": [
      "112 block dari 390 block\n"
     ]
    },
    {
     "name": "stdout",
     "output_type": "stream",
     "text": [
      "113 block dari 390 block\n"
     ]
    },
    {
     "name": "stdout",
     "output_type": "stream",
     "text": [
      "114 block dari 390 block\n"
     ]
    },
    {
     "name": "stdout",
     "output_type": "stream",
     "text": [
      "115 block dari 390 block\n"
     ]
    },
    {
     "name": "stdout",
     "output_type": "stream",
     "text": [
      "116 block dari 390 block\n"
     ]
    },
    {
     "name": "stdout",
     "output_type": "stream",
     "text": [
      "117 block dari 390 block\n"
     ]
    },
    {
     "name": "stdout",
     "output_type": "stream",
     "text": [
      "118 block dari 390 block\n"
     ]
    },
    {
     "name": "stdout",
     "output_type": "stream",
     "text": [
      "119 block dari 390 block\n"
     ]
    },
    {
     "name": "stdout",
     "output_type": "stream",
     "text": [
      "120 block dari 390 block\n"
     ]
    },
    {
     "name": "stdout",
     "output_type": "stream",
     "text": [
      "121 block dari 390 block\n"
     ]
    },
    {
     "name": "stdout",
     "output_type": "stream",
     "text": [
      "122 block dari 390 block\n"
     ]
    },
    {
     "name": "stdout",
     "output_type": "stream",
     "text": [
      "123 block dari 390 block\n"
     ]
    },
    {
     "name": "stdout",
     "output_type": "stream",
     "text": [
      "124 block dari 390 block\n"
     ]
    },
    {
     "name": "stdout",
     "output_type": "stream",
     "text": [
      "125 block dari 390 block\n"
     ]
    },
    {
     "name": "stdout",
     "output_type": "stream",
     "text": [
      "126 block dari 390 block\n"
     ]
    },
    {
     "name": "stdout",
     "output_type": "stream",
     "text": [
      "127 block dari 390 block\n"
     ]
    },
    {
     "name": "stdout",
     "output_type": "stream",
     "text": [
      "128 block dari 390 block\n"
     ]
    },
    {
     "name": "stdout",
     "output_type": "stream",
     "text": [
      "129 block dari 390 block\n"
     ]
    },
    {
     "name": "stdout",
     "output_type": "stream",
     "text": [
      "130 block dari 390 block\n"
     ]
    },
    {
     "name": "stdout",
     "output_type": "stream",
     "text": [
      "131 block dari 390 block\n"
     ]
    },
    {
     "name": "stdout",
     "output_type": "stream",
     "text": [
      "132 block dari 390 block\n"
     ]
    },
    {
     "name": "stdout",
     "output_type": "stream",
     "text": [
      "133 block dari 390 block\n"
     ]
    },
    {
     "name": "stdout",
     "output_type": "stream",
     "text": [
      "134 block dari 390 block\n"
     ]
    },
    {
     "name": "stdout",
     "output_type": "stream",
     "text": [
      "135 block dari 390 block\n"
     ]
    },
    {
     "name": "stdout",
     "output_type": "stream",
     "text": [
      "136 block dari 390 block\n"
     ]
    },
    {
     "name": "stdout",
     "output_type": "stream",
     "text": [
      "137 block dari 390 block\n"
     ]
    },
    {
     "name": "stdout",
     "output_type": "stream",
     "text": [
      "138 block dari 390 block\n"
     ]
    },
    {
     "name": "stdout",
     "output_type": "stream",
     "text": [
      "139 block dari 390 block\n"
     ]
    },
    {
     "name": "stdout",
     "output_type": "stream",
     "text": [
      "140 block dari 390 block\n"
     ]
    },
    {
     "name": "stdout",
     "output_type": "stream",
     "text": [
      "141 block dari 390 block\n"
     ]
    },
    {
     "name": "stdout",
     "output_type": "stream",
     "text": [
      "142 block dari 390 block\n"
     ]
    },
    {
     "name": "stdout",
     "output_type": "stream",
     "text": [
      "143 block dari 390 block\n"
     ]
    },
    {
     "name": "stdout",
     "output_type": "stream",
     "text": [
      "144 block dari 390 block\n"
     ]
    },
    {
     "name": "stdout",
     "output_type": "stream",
     "text": [
      "145 block dari 390 block\n"
     ]
    },
    {
     "name": "stdout",
     "output_type": "stream",
     "text": [
      "146 block dari 390 block\n"
     ]
    },
    {
     "name": "stdout",
     "output_type": "stream",
     "text": [
      "147 block dari 390 block\n"
     ]
    },
    {
     "name": "stdout",
     "output_type": "stream",
     "text": [
      "148 block dari 390 block\n"
     ]
    },
    {
     "name": "stdout",
     "output_type": "stream",
     "text": [
      "149 block dari 390 block\n"
     ]
    },
    {
     "name": "stdout",
     "output_type": "stream",
     "text": [
      "150 block dari 390 block\n"
     ]
    },
    {
     "name": "stdout",
     "output_type": "stream",
     "text": [
      "151 block dari 390 block\n"
     ]
    },
    {
     "name": "stdout",
     "output_type": "stream",
     "text": [
      "152 block dari 390 block\n"
     ]
    },
    {
     "name": "stdout",
     "output_type": "stream",
     "text": [
      "153 block dari 390 block\n"
     ]
    },
    {
     "name": "stdout",
     "output_type": "stream",
     "text": [
      "154 block dari 390 block\n"
     ]
    },
    {
     "name": "stdout",
     "output_type": "stream",
     "text": [
      "155 block dari 390 block\n"
     ]
    },
    {
     "name": "stdout",
     "output_type": "stream",
     "text": [
      "156 block dari 390 block\n"
     ]
    },
    {
     "name": "stdout",
     "output_type": "stream",
     "text": [
      "157 block dari 390 block\n"
     ]
    },
    {
     "name": "stdout",
     "output_type": "stream",
     "text": [
      "158 block dari 390 block\n"
     ]
    },
    {
     "name": "stdout",
     "output_type": "stream",
     "text": [
      "159 block dari 390 block\n"
     ]
    },
    {
     "name": "stdout",
     "output_type": "stream",
     "text": [
      "160 block dari 390 block\n"
     ]
    },
    {
     "name": "stdout",
     "output_type": "stream",
     "text": [
      "161 block dari 390 block\n"
     ]
    },
    {
     "name": "stdout",
     "output_type": "stream",
     "text": [
      "162 block dari 390 block\n"
     ]
    },
    {
     "name": "stdout",
     "output_type": "stream",
     "text": [
      "163 block dari 390 block\n"
     ]
    },
    {
     "name": "stdout",
     "output_type": "stream",
     "text": [
      "164 block dari 390 block\n"
     ]
    },
    {
     "name": "stdout",
     "output_type": "stream",
     "text": [
      "165 block dari 390 block\n"
     ]
    },
    {
     "name": "stdout",
     "output_type": "stream",
     "text": [
      "166 block dari 390 block\n"
     ]
    },
    {
     "name": "stdout",
     "output_type": "stream",
     "text": [
      "167 block dari 390 block\n"
     ]
    },
    {
     "name": "stdout",
     "output_type": "stream",
     "text": [
      "168 block dari 390 block\n"
     ]
    },
    {
     "name": "stdout",
     "output_type": "stream",
     "text": [
      "169 block dari 390 block\n"
     ]
    },
    {
     "name": "stdout",
     "output_type": "stream",
     "text": [
      "170 block dari 390 block\n"
     ]
    },
    {
     "name": "stdout",
     "output_type": "stream",
     "text": [
      "171 block dari 390 block\n"
     ]
    },
    {
     "name": "stdout",
     "output_type": "stream",
     "text": [
      "172 block dari 390 block\n"
     ]
    },
    {
     "name": "stdout",
     "output_type": "stream",
     "text": [
      "173 block dari 390 block\n"
     ]
    },
    {
     "name": "stdout",
     "output_type": "stream",
     "text": [
      "174 block dari 390 block\n"
     ]
    },
    {
     "name": "stdout",
     "output_type": "stream",
     "text": [
      "175 block dari 390 block\n"
     ]
    },
    {
     "name": "stdout",
     "output_type": "stream",
     "text": [
      "176 block dari 390 block\n"
     ]
    },
    {
     "name": "stdout",
     "output_type": "stream",
     "text": [
      "177 block dari 390 block\n"
     ]
    },
    {
     "name": "stdout",
     "output_type": "stream",
     "text": [
      "178 block dari 390 block\n"
     ]
    },
    {
     "name": "stdout",
     "output_type": "stream",
     "text": [
      "179 block dari 390 block\n"
     ]
    },
    {
     "name": "stdout",
     "output_type": "stream",
     "text": [
      "180 block dari 390 block\n"
     ]
    },
    {
     "name": "stdout",
     "output_type": "stream",
     "text": [
      "181 block dari 390 block\n"
     ]
    },
    {
     "name": "stdout",
     "output_type": "stream",
     "text": [
      "182 block dari 390 block\n"
     ]
    },
    {
     "name": "stdout",
     "output_type": "stream",
     "text": [
      "183 block dari 390 block\n"
     ]
    },
    {
     "name": "stdout",
     "output_type": "stream",
     "text": [
      "184 block dari 390 block\n"
     ]
    },
    {
     "name": "stdout",
     "output_type": "stream",
     "text": [
      "185 block dari 390 block\n"
     ]
    },
    {
     "name": "stdout",
     "output_type": "stream",
     "text": [
      "186 block dari 390 block\n"
     ]
    },
    {
     "name": "stdout",
     "output_type": "stream",
     "text": [
      "187 block dari 390 block\n"
     ]
    },
    {
     "name": "stdout",
     "output_type": "stream",
     "text": [
      "188 block dari 390 block\n"
     ]
    },
    {
     "name": "stdout",
     "output_type": "stream",
     "text": [
      "189 block dari 390 block\n"
     ]
    },
    {
     "name": "stdout",
     "output_type": "stream",
     "text": [
      "190 block dari 390 block\n"
     ]
    },
    {
     "name": "stdout",
     "output_type": "stream",
     "text": [
      "191 block dari 390 block\n"
     ]
    },
    {
     "name": "stdout",
     "output_type": "stream",
     "text": [
      "192 block dari 390 block\n"
     ]
    },
    {
     "name": "stdout",
     "output_type": "stream",
     "text": [
      "193 block dari 390 block\n"
     ]
    },
    {
     "name": "stdout",
     "output_type": "stream",
     "text": [
      "194 block dari 390 block\n"
     ]
    },
    {
     "name": "stdout",
     "output_type": "stream",
     "text": [
      "195 block dari 390 block\n"
     ]
    },
    {
     "name": "stdout",
     "output_type": "stream",
     "text": [
      "196 block dari 390 block\n"
     ]
    },
    {
     "name": "stdout",
     "output_type": "stream",
     "text": [
      "197 block dari 390 block\n"
     ]
    },
    {
     "name": "stdout",
     "output_type": "stream",
     "text": [
      "198 block dari 390 block\n"
     ]
    },
    {
     "name": "stdout",
     "output_type": "stream",
     "text": [
      "199 block dari 390 block\n"
     ]
    },
    {
     "name": "stdout",
     "output_type": "stream",
     "text": [
      "200 block dari 390 block\n"
     ]
    },
    {
     "name": "stdout",
     "output_type": "stream",
     "text": [
      "201 block dari 390 block\n"
     ]
    },
    {
     "name": "stdout",
     "output_type": "stream",
     "text": [
      "202 block dari 390 block\n"
     ]
    },
    {
     "name": "stdout",
     "output_type": "stream",
     "text": [
      "203 block dari 390 block\n"
     ]
    },
    {
     "name": "stdout",
     "output_type": "stream",
     "text": [
      "204 block dari 390 block\n"
     ]
    },
    {
     "name": "stdout",
     "output_type": "stream",
     "text": [
      "205 block dari 390 block\n"
     ]
    },
    {
     "name": "stdout",
     "output_type": "stream",
     "text": [
      "206 block dari 390 block\n"
     ]
    },
    {
     "name": "stdout",
     "output_type": "stream",
     "text": [
      "207 block dari 390 block\n"
     ]
    },
    {
     "name": "stdout",
     "output_type": "stream",
     "text": [
      "208 block dari 390 block\n"
     ]
    },
    {
     "name": "stdout",
     "output_type": "stream",
     "text": [
      "209 block dari 390 block\n"
     ]
    },
    {
     "name": "stdout",
     "output_type": "stream",
     "text": [
      "210 block dari 390 block\n"
     ]
    },
    {
     "name": "stdout",
     "output_type": "stream",
     "text": [
      "211 block dari 390 block\n"
     ]
    },
    {
     "name": "stdout",
     "output_type": "stream",
     "text": [
      "212 block dari 390 block\n"
     ]
    },
    {
     "name": "stdout",
     "output_type": "stream",
     "text": [
      "213 block dari 390 block\n"
     ]
    },
    {
     "name": "stdout",
     "output_type": "stream",
     "text": [
      "214 block dari 390 block\n"
     ]
    },
    {
     "name": "stdout",
     "output_type": "stream",
     "text": [
      "215 block dari 390 block\n"
     ]
    },
    {
     "name": "stdout",
     "output_type": "stream",
     "text": [
      "216 block dari 390 block\n"
     ]
    },
    {
     "name": "stdout",
     "output_type": "stream",
     "text": [
      "217 block dari 390 block\n"
     ]
    },
    {
     "name": "stdout",
     "output_type": "stream",
     "text": [
      "218 block dari 390 block\n"
     ]
    },
    {
     "name": "stdout",
     "output_type": "stream",
     "text": [
      "219 block dari 390 block\n"
     ]
    },
    {
     "name": "stdout",
     "output_type": "stream",
     "text": [
      "220 block dari 390 block\n"
     ]
    },
    {
     "name": "stdout",
     "output_type": "stream",
     "text": [
      "221 block dari 390 block\n"
     ]
    },
    {
     "name": "stdout",
     "output_type": "stream",
     "text": [
      "222 block dari 390 block\n"
     ]
    },
    {
     "name": "stdout",
     "output_type": "stream",
     "text": [
      "223 block dari 390 block\n"
     ]
    },
    {
     "name": "stdout",
     "output_type": "stream",
     "text": [
      "224 block dari 390 block\n"
     ]
    },
    {
     "name": "stdout",
     "output_type": "stream",
     "text": [
      "225 block dari 390 block\n"
     ]
    },
    {
     "name": "stdout",
     "output_type": "stream",
     "text": [
      "226 block dari 390 block\n"
     ]
    },
    {
     "name": "stdout",
     "output_type": "stream",
     "text": [
      "227 block dari 390 block\n"
     ]
    },
    {
     "name": "stdout",
     "output_type": "stream",
     "text": [
      "228 block dari 390 block\n"
     ]
    },
    {
     "name": "stdout",
     "output_type": "stream",
     "text": [
      "229 block dari 390 block\n"
     ]
    },
    {
     "name": "stdout",
     "output_type": "stream",
     "text": [
      "230 block dari 390 block\n"
     ]
    },
    {
     "name": "stdout",
     "output_type": "stream",
     "text": [
      "231 block dari 390 block\n"
     ]
    },
    {
     "name": "stdout",
     "output_type": "stream",
     "text": [
      "232 block dari 390 block\n"
     ]
    },
    {
     "name": "stdout",
     "output_type": "stream",
     "text": [
      "233 block dari 390 block\n"
     ]
    },
    {
     "name": "stdout",
     "output_type": "stream",
     "text": [
      "234 block dari 390 block\n"
     ]
    },
    {
     "name": "stdout",
     "output_type": "stream",
     "text": [
      "235 block dari 390 block\n"
     ]
    },
    {
     "name": "stdout",
     "output_type": "stream",
     "text": [
      "236 block dari 390 block\n"
     ]
    },
    {
     "name": "stdout",
     "output_type": "stream",
     "text": [
      "237 block dari 390 block\n"
     ]
    },
    {
     "name": "stdout",
     "output_type": "stream",
     "text": [
      "238 block dari 390 block\n"
     ]
    },
    {
     "name": "stdout",
     "output_type": "stream",
     "text": [
      "239 block dari 390 block\n"
     ]
    },
    {
     "name": "stdout",
     "output_type": "stream",
     "text": [
      "240 block dari 390 block\n"
     ]
    },
    {
     "name": "stdout",
     "output_type": "stream",
     "text": [
      "241 block dari 390 block\n"
     ]
    },
    {
     "name": "stdout",
     "output_type": "stream",
     "text": [
      "242 block dari 390 block\n"
     ]
    },
    {
     "name": "stdout",
     "output_type": "stream",
     "text": [
      "243 block dari 390 block\n"
     ]
    },
    {
     "name": "stdout",
     "output_type": "stream",
     "text": [
      "244 block dari 390 block\n"
     ]
    },
    {
     "name": "stdout",
     "output_type": "stream",
     "text": [
      "245 block dari 390 block\n"
     ]
    },
    {
     "name": "stdout",
     "output_type": "stream",
     "text": [
      "246 block dari 390 block\n"
     ]
    },
    {
     "name": "stdout",
     "output_type": "stream",
     "text": [
      "247 block dari 390 block\n"
     ]
    },
    {
     "name": "stdout",
     "output_type": "stream",
     "text": [
      "248 block dari 390 block\n"
     ]
    },
    {
     "name": "stdout",
     "output_type": "stream",
     "text": [
      "249 block dari 390 block\n"
     ]
    },
    {
     "name": "stdout",
     "output_type": "stream",
     "text": [
      "250 block dari 390 block\n"
     ]
    },
    {
     "name": "stdout",
     "output_type": "stream",
     "text": [
      "251 block dari 390 block\n"
     ]
    },
    {
     "name": "stdout",
     "output_type": "stream",
     "text": [
      "252 block dari 390 block\n"
     ]
    },
    {
     "name": "stdout",
     "output_type": "stream",
     "text": [
      "253 block dari 390 block\n"
     ]
    },
    {
     "name": "stdout",
     "output_type": "stream",
     "text": [
      "254 block dari 390 block\n"
     ]
    },
    {
     "name": "stdout",
     "output_type": "stream",
     "text": [
      "255 block dari 390 block\n"
     ]
    },
    {
     "name": "stdout",
     "output_type": "stream",
     "text": [
      "256 block dari 390 block\n"
     ]
    },
    {
     "name": "stdout",
     "output_type": "stream",
     "text": [
      "257 block dari 390 block\n"
     ]
    },
    {
     "name": "stdout",
     "output_type": "stream",
     "text": [
      "258 block dari 390 block\n"
     ]
    },
    {
     "name": "stdout",
     "output_type": "stream",
     "text": [
      "259 block dari 390 block\n"
     ]
    },
    {
     "name": "stdout",
     "output_type": "stream",
     "text": [
      "260 block dari 390 block\n"
     ]
    },
    {
     "name": "stdout",
     "output_type": "stream",
     "text": [
      "261 block dari 390 block\n"
     ]
    },
    {
     "name": "stdout",
     "output_type": "stream",
     "text": [
      "262 block dari 390 block\n"
     ]
    },
    {
     "name": "stdout",
     "output_type": "stream",
     "text": [
      "263 block dari 390 block\n"
     ]
    },
    {
     "name": "stdout",
     "output_type": "stream",
     "text": [
      "264 block dari 390 block\n"
     ]
    },
    {
     "name": "stdout",
     "output_type": "stream",
     "text": [
      "265 block dari 390 block\n"
     ]
    },
    {
     "name": "stdout",
     "output_type": "stream",
     "text": [
      "266 block dari 390 block\n"
     ]
    },
    {
     "name": "stdout",
     "output_type": "stream",
     "text": [
      "267 block dari 390 block\n"
     ]
    },
    {
     "name": "stdout",
     "output_type": "stream",
     "text": [
      "268 block dari 390 block\n"
     ]
    },
    {
     "name": "stdout",
     "output_type": "stream",
     "text": [
      "269 block dari 390 block\n"
     ]
    },
    {
     "name": "stdout",
     "output_type": "stream",
     "text": [
      "270 block dari 390 block\n"
     ]
    },
    {
     "name": "stdout",
     "output_type": "stream",
     "text": [
      "271 block dari 390 block\n"
     ]
    },
    {
     "name": "stdout",
     "output_type": "stream",
     "text": [
      "272 block dari 390 block\n"
     ]
    },
    {
     "name": "stdout",
     "output_type": "stream",
     "text": [
      "273 block dari 390 block\n"
     ]
    },
    {
     "name": "stdout",
     "output_type": "stream",
     "text": [
      "274 block dari 390 block\n"
     ]
    },
    {
     "name": "stdout",
     "output_type": "stream",
     "text": [
      "275 block dari 390 block\n"
     ]
    },
    {
     "name": "stdout",
     "output_type": "stream",
     "text": [
      "276 block dari 390 block\n"
     ]
    },
    {
     "name": "stdout",
     "output_type": "stream",
     "text": [
      "277 block dari 390 block\n"
     ]
    },
    {
     "name": "stdout",
     "output_type": "stream",
     "text": [
      "278 block dari 390 block\n"
     ]
    },
    {
     "name": "stdout",
     "output_type": "stream",
     "text": [
      "279 block dari 390 block\n"
     ]
    },
    {
     "name": "stdout",
     "output_type": "stream",
     "text": [
      "280 block dari 390 block\n"
     ]
    },
    {
     "name": "stdout",
     "output_type": "stream",
     "text": [
      "281 block dari 390 block\n"
     ]
    },
    {
     "name": "stdout",
     "output_type": "stream",
     "text": [
      "282 block dari 390 block\n"
     ]
    },
    {
     "name": "stdout",
     "output_type": "stream",
     "text": [
      "283 block dari 390 block\n"
     ]
    },
    {
     "name": "stdout",
     "output_type": "stream",
     "text": [
      "284 block dari 390 block\n"
     ]
    },
    {
     "name": "stdout",
     "output_type": "stream",
     "text": [
      "285 block dari 390 block\n"
     ]
    },
    {
     "name": "stdout",
     "output_type": "stream",
     "text": [
      "286 block dari 390 block\n"
     ]
    },
    {
     "name": "stdout",
     "output_type": "stream",
     "text": [
      "287 block dari 390 block\n"
     ]
    },
    {
     "name": "stdout",
     "output_type": "stream",
     "text": [
      "288 block dari 390 block\n"
     ]
    },
    {
     "name": "stdout",
     "output_type": "stream",
     "text": [
      "289 block dari 390 block\n"
     ]
    },
    {
     "name": "stdout",
     "output_type": "stream",
     "text": [
      "290 block dari 390 block\n"
     ]
    },
    {
     "name": "stdout",
     "output_type": "stream",
     "text": [
      "291 block dari 390 block\n"
     ]
    },
    {
     "name": "stdout",
     "output_type": "stream",
     "text": [
      "292 block dari 390 block\n"
     ]
    },
    {
     "name": "stdout",
     "output_type": "stream",
     "text": [
      "293 block dari 390 block\n"
     ]
    },
    {
     "name": "stdout",
     "output_type": "stream",
     "text": [
      "294 block dari 390 block\n"
     ]
    },
    {
     "name": "stdout",
     "output_type": "stream",
     "text": [
      "295 block dari 390 block\n"
     ]
    },
    {
     "name": "stdout",
     "output_type": "stream",
     "text": [
      "296 block dari 390 block\n"
     ]
    },
    {
     "name": "stdout",
     "output_type": "stream",
     "text": [
      "297 block dari 390 block\n"
     ]
    },
    {
     "name": "stdout",
     "output_type": "stream",
     "text": [
      "298 block dari 390 block\n"
     ]
    },
    {
     "name": "stdout",
     "output_type": "stream",
     "text": [
      "299 block dari 390 block\n"
     ]
    },
    {
     "name": "stdout",
     "output_type": "stream",
     "text": [
      "300 block dari 390 block\n"
     ]
    },
    {
     "name": "stdout",
     "output_type": "stream",
     "text": [
      "301 block dari 390 block\n"
     ]
    },
    {
     "name": "stdout",
     "output_type": "stream",
     "text": [
      "302 block dari 390 block\n"
     ]
    },
    {
     "name": "stdout",
     "output_type": "stream",
     "text": [
      "303 block dari 390 block\n"
     ]
    },
    {
     "name": "stdout",
     "output_type": "stream",
     "text": [
      "304 block dari 390 block\n"
     ]
    },
    {
     "name": "stdout",
     "output_type": "stream",
     "text": [
      "305 block dari 390 block\n"
     ]
    },
    {
     "name": "stdout",
     "output_type": "stream",
     "text": [
      "306 block dari 390 block\n"
     ]
    },
    {
     "name": "stdout",
     "output_type": "stream",
     "text": [
      "307 block dari 390 block\n"
     ]
    },
    {
     "name": "stdout",
     "output_type": "stream",
     "text": [
      "308 block dari 390 block\n"
     ]
    },
    {
     "name": "stdout",
     "output_type": "stream",
     "text": [
      "309 block dari 390 block\n"
     ]
    },
    {
     "name": "stdout",
     "output_type": "stream",
     "text": [
      "310 block dari 390 block\n"
     ]
    },
    {
     "name": "stdout",
     "output_type": "stream",
     "text": [
      "311 block dari 390 block\n"
     ]
    },
    {
     "name": "stdout",
     "output_type": "stream",
     "text": [
      "312 block dari 390 block\n"
     ]
    },
    {
     "name": "stdout",
     "output_type": "stream",
     "text": [
      "313 block dari 390 block\n"
     ]
    },
    {
     "name": "stdout",
     "output_type": "stream",
     "text": [
      "314 block dari 390 block\n"
     ]
    },
    {
     "name": "stdout",
     "output_type": "stream",
     "text": [
      "315 block dari 390 block\n"
     ]
    },
    {
     "name": "stdout",
     "output_type": "stream",
     "text": [
      "316 block dari 390 block\n"
     ]
    },
    {
     "name": "stdout",
     "output_type": "stream",
     "text": [
      "317 block dari 390 block\n"
     ]
    },
    {
     "name": "stdout",
     "output_type": "stream",
     "text": [
      "318 block dari 390 block\n"
     ]
    },
    {
     "name": "stdout",
     "output_type": "stream",
     "text": [
      "319 block dari 390 block\n"
     ]
    },
    {
     "name": "stdout",
     "output_type": "stream",
     "text": [
      "320 block dari 390 block\n"
     ]
    },
    {
     "name": "stdout",
     "output_type": "stream",
     "text": [
      "321 block dari 390 block\n"
     ]
    },
    {
     "name": "stdout",
     "output_type": "stream",
     "text": [
      "322 block dari 390 block\n"
     ]
    },
    {
     "name": "stdout",
     "output_type": "stream",
     "text": [
      "323 block dari 390 block\n"
     ]
    },
    {
     "name": "stdout",
     "output_type": "stream",
     "text": [
      "324 block dari 390 block\n"
     ]
    },
    {
     "name": "stdout",
     "output_type": "stream",
     "text": [
      "325 block dari 390 block\n"
     ]
    },
    {
     "name": "stdout",
     "output_type": "stream",
     "text": [
      "326 block dari 390 block\n"
     ]
    },
    {
     "name": "stdout",
     "output_type": "stream",
     "text": [
      "327 block dari 390 block\n"
     ]
    },
    {
     "name": "stdout",
     "output_type": "stream",
     "text": [
      "328 block dari 390 block\n"
     ]
    },
    {
     "name": "stdout",
     "output_type": "stream",
     "text": [
      "329 block dari 390 block\n"
     ]
    },
    {
     "name": "stdout",
     "output_type": "stream",
     "text": [
      "330 block dari 390 block\n"
     ]
    },
    {
     "name": "stdout",
     "output_type": "stream",
     "text": [
      "331 block dari 390 block\n"
     ]
    },
    {
     "name": "stdout",
     "output_type": "stream",
     "text": [
      "332 block dari 390 block\n"
     ]
    },
    {
     "name": "stdout",
     "output_type": "stream",
     "text": [
      "333 block dari 390 block\n"
     ]
    },
    {
     "name": "stdout",
     "output_type": "stream",
     "text": [
      "334 block dari 390 block\n"
     ]
    },
    {
     "name": "stdout",
     "output_type": "stream",
     "text": [
      "335 block dari 390 block\n"
     ]
    },
    {
     "name": "stdout",
     "output_type": "stream",
     "text": [
      "336 block dari 390 block\n"
     ]
    },
    {
     "name": "stdout",
     "output_type": "stream",
     "text": [
      "337 block dari 390 block\n"
     ]
    },
    {
     "name": "stdout",
     "output_type": "stream",
     "text": [
      "338 block dari 390 block\n"
     ]
    },
    {
     "name": "stdout",
     "output_type": "stream",
     "text": [
      "339 block dari 390 block\n"
     ]
    },
    {
     "name": "stdout",
     "output_type": "stream",
     "text": [
      "340 block dari 390 block\n"
     ]
    },
    {
     "name": "stdout",
     "output_type": "stream",
     "text": [
      "341 block dari 390 block\n"
     ]
    },
    {
     "name": "stdout",
     "output_type": "stream",
     "text": [
      "342 block dari 390 block\n"
     ]
    },
    {
     "name": "stdout",
     "output_type": "stream",
     "text": [
      "343 block dari 390 block\n"
     ]
    },
    {
     "name": "stdout",
     "output_type": "stream",
     "text": [
      "344 block dari 390 block\n"
     ]
    },
    {
     "name": "stdout",
     "output_type": "stream",
     "text": [
      "345 block dari 390 block\n"
     ]
    },
    {
     "name": "stdout",
     "output_type": "stream",
     "text": [
      "346 block dari 390 block\n"
     ]
    },
    {
     "name": "stdout",
     "output_type": "stream",
     "text": [
      "347 block dari 390 block\n"
     ]
    },
    {
     "name": "stdout",
     "output_type": "stream",
     "text": [
      "348 block dari 390 block\n"
     ]
    },
    {
     "name": "stdout",
     "output_type": "stream",
     "text": [
      "349 block dari 390 block\n"
     ]
    },
    {
     "name": "stdout",
     "output_type": "stream",
     "text": [
      "350 block dari 390 block\n"
     ]
    },
    {
     "name": "stdout",
     "output_type": "stream",
     "text": [
      "351 block dari 390 block\n"
     ]
    },
    {
     "name": "stdout",
     "output_type": "stream",
     "text": [
      "352 block dari 390 block\n"
     ]
    },
    {
     "name": "stdout",
     "output_type": "stream",
     "text": [
      "353 block dari 390 block\n"
     ]
    },
    {
     "name": "stdout",
     "output_type": "stream",
     "text": [
      "354 block dari 390 block\n"
     ]
    },
    {
     "name": "stdout",
     "output_type": "stream",
     "text": [
      "355 block dari 390 block\n"
     ]
    },
    {
     "name": "stdout",
     "output_type": "stream",
     "text": [
      "356 block dari 390 block\n"
     ]
    },
    {
     "name": "stdout",
     "output_type": "stream",
     "text": [
      "357 block dari 390 block\n"
     ]
    },
    {
     "name": "stdout",
     "output_type": "stream",
     "text": [
      "358 block dari 390 block\n"
     ]
    },
    {
     "name": "stdout",
     "output_type": "stream",
     "text": [
      "359 block dari 390 block\n"
     ]
    },
    {
     "name": "stdout",
     "output_type": "stream",
     "text": [
      "360 block dari 390 block\n"
     ]
    },
    {
     "name": "stdout",
     "output_type": "stream",
     "text": [
      "361 block dari 390 block\n"
     ]
    },
    {
     "name": "stdout",
     "output_type": "stream",
     "text": [
      "362 block dari 390 block\n"
     ]
    },
    {
     "name": "stdout",
     "output_type": "stream",
     "text": [
      "363 block dari 390 block\n"
     ]
    },
    {
     "name": "stdout",
     "output_type": "stream",
     "text": [
      "364 block dari 390 block\n"
     ]
    },
    {
     "name": "stdout",
     "output_type": "stream",
     "text": [
      "365 block dari 390 block\n"
     ]
    },
    {
     "name": "stdout",
     "output_type": "stream",
     "text": [
      "366 block dari 390 block\n"
     ]
    },
    {
     "name": "stdout",
     "output_type": "stream",
     "text": [
      "367 block dari 390 block\n"
     ]
    },
    {
     "name": "stdout",
     "output_type": "stream",
     "text": [
      "368 block dari 390 block\n"
     ]
    },
    {
     "name": "stdout",
     "output_type": "stream",
     "text": [
      "369 block dari 390 block\n"
     ]
    },
    {
     "name": "stdout",
     "output_type": "stream",
     "text": [
      "370 block dari 390 block\n"
     ]
    },
    {
     "name": "stdout",
     "output_type": "stream",
     "text": [
      "371 block dari 390 block\n"
     ]
    },
    {
     "name": "stdout",
     "output_type": "stream",
     "text": [
      "372 block dari 390 block\n"
     ]
    },
    {
     "name": "stdout",
     "output_type": "stream",
     "text": [
      "373 block dari 390 block\n"
     ]
    },
    {
     "name": "stdout",
     "output_type": "stream",
     "text": [
      "374 block dari 390 block\n"
     ]
    },
    {
     "name": "stdout",
     "output_type": "stream",
     "text": [
      "375 block dari 390 block\n"
     ]
    },
    {
     "name": "stdout",
     "output_type": "stream",
     "text": [
      "376 block dari 390 block\n"
     ]
    },
    {
     "name": "stdout",
     "output_type": "stream",
     "text": [
      "377 block dari 390 block\n"
     ]
    },
    {
     "name": "stdout",
     "output_type": "stream",
     "text": [
      "378 block dari 390 block\n"
     ]
    },
    {
     "name": "stdout",
     "output_type": "stream",
     "text": [
      "379 block dari 390 block\n"
     ]
    },
    {
     "name": "stdout",
     "output_type": "stream",
     "text": [
      "380 block dari 390 block\n"
     ]
    },
    {
     "name": "stdout",
     "output_type": "stream",
     "text": [
      "381 block dari 390 block\n"
     ]
    },
    {
     "name": "stdout",
     "output_type": "stream",
     "text": [
      "382 block dari 390 block\n"
     ]
    },
    {
     "name": "stdout",
     "output_type": "stream",
     "text": [
      "383 block dari 390 block\n"
     ]
    },
    {
     "name": "stdout",
     "output_type": "stream",
     "text": [
      "384 block dari 390 block\n"
     ]
    },
    {
     "name": "stdout",
     "output_type": "stream",
     "text": [
      "385 block dari 390 block\n"
     ]
    },
    {
     "name": "stdout",
     "output_type": "stream",
     "text": [
      "386 block dari 390 block\n"
     ]
    },
    {
     "name": "stdout",
     "output_type": "stream",
     "text": [
      "387 block dari 390 block\n"
     ]
    },
    {
     "name": "stdout",
     "output_type": "stream",
     "text": [
      "388 block dari 390 block\n"
     ]
    },
    {
     "name": "stdout",
     "output_type": "stream",
     "text": [
      "389 block dari 390 block\n"
     ]
    },
    {
     "name": "stdout",
     "output_type": "stream",
     "text": [
      "390 block dari 390 block\n",
      "dekripsi selesai\n"
     ]
    }
   ],
   "source": [
    "#dekripsi\n",
    "filename = \"enc_x.png\"\n",
    "key = np.load(\"private.npz\",allow_pickle=True)\n",
    "\n",
    "S = matrix(GF(2),key['s'])\n",
    "P = matrix(GF(2),key['p'])\n",
    "Sinv = matrix(GF(2),key['s1'])\n",
    "Pinv = matrix(GF(2),key['p1'])\n",
    "with open(filename,\"rb\") as fh:\n",
    "    bytestream = fh.read()\n",
    "    bytestream = bytearray(bytestream)\n",
    "encoded = ''\n",
    "decodeds = []\n",
    "for i, b in enumerate(bytestream):\n",
    "    binary = '{0:08b}'.format(b)\n",
    "    encoded += binary\n",
    "blok = 0\n",
    "decodeds = ''\n",
    "decoded = ''\n",
    "for index in range(0,len(encoded),24):\n",
    "    word = encoded[index:index+24]\n",
    "    f = vector(GF(2),word)\n",
    "    de = decode(f,Sinv,Pinv)\n",
    "    for i in de:\n",
    "        decoded += str(i)\n",
    "    blok+=1\n",
    "    print(\"{0} block dari {1} block\".format(blok,int(len(encoded)/24)))\n",
    "for index in range(0,len(decoded),24):\n",
    "    word = decoded[index:index+24]\n",
    "    word = unpadder(word)\n",
    "    decodeds+= word\n",
    "decoded_list = []\n",
    "for index in range(0, len(decodeds), 8):\n",
    "    word = decodeds[index:index+8]\n",
    "    word = int(word,2)\n",
    "    decoded_list.append(word)\n",
    "decoded_list = bytearray(decoded_list)\n",
    "fh = open(\"dec_\"+filename,\"wb\")\n",
    "fh.write(decoded_list)\n",
    "fh.close()\n",
    "print(\"dekripsi selesai\")"
   ]
  },
  {
   "cell_type": "code",
   "execution_count": 30,
   "metadata": {
    "collapsed": false
   },
   "outputs": [
    {
     "name": "stdout",
     "output_type": "stream",
     "text": [
      "priv key berhasil disimpan\n",
      "pub key berhasil disimpan\n"
     ]
    }
   ],
   "source": [
    "generate_key(\"privat\",\"publik\")"
   ]
  },
  {
   "cell_type": "code",
   "execution_count": 3,
   "metadata": {
    "collapsed": false
   },
   "outputs": [
    {
     "name": "stdout",
     "output_type": "stream",
     "text": [
      "b'Matematika 2019'\n"
     ]
    }
   ],
   "source": [
    "with open(\"dec_enc_contoh\",\"rb\") as fh:\n",
    "    bytestream = fh.read()\n",
    "    print(bytestream)"
   ]
  },
  {
   "cell_type": "code",
   "execution_count": 32,
   "metadata": {
    "collapsed": false
   },
   "outputs": [
    {
     "name": "stdout",
     "output_type": "stream",
     "text": [
      "2 block telah dienkripsi\n",
      "4 block telah dienkripsi\n",
      "6 block telah dienkripsi\n",
      "8 block telah dienkripsi\n",
      "10 block telah dienkripsi\n",
      "12 block telah dienkripsi\n",
      "14 block telah dienkripsi\n",
      "16 block telah dienkripsi\n",
      "18 block telah dienkripsi\n",
      "20 block telah dienkripsi\n",
      "22 block telah dienkripsi\n",
      "24 block telah dienkripsi\n",
      "26 block telah dienkripsi\n",
      "28 block telah dienkripsi\n",
      "30 block telah dienkripsi\n",
      "bytearray(b'u\\xc5G\\xe9\\x0e\\xe6u\\xc3G\\xbf\\x8c\\xd6G\\xc1A\\x939\\xc2oQG\\xe9A\\xf3\\xef\\xc1FI`xg\\x91O\\xb2\\xc4\\xdeg\\xf1\\xc7\\xb3\\xb9Fe\\xc1\\xc3W\\xbdZw\\xe1F\\t\\x08$fAO\\xb6\\x0e\\xd6u\\xc1W\\xa0p\\xe7e\\xc8G_\\xbeOc\\xc0E`\\x9f\\xbf\\xf7\\xc1EV\\x80\\xc6e\\xc1w\\xc2\\x01\\x1a')\n",
      "enkripsi selesai\n"
     ]
    }
   ],
   "source": [
    "encrypt(\"contoh\",\"publik.npz\")"
   ]
  },
  {
   "cell_type": "code",
   "execution_count": 33,
   "metadata": {
    "collapsed": false
   },
   "outputs": [
    {
     "name": "stdout",
     "output_type": "stream",
     "text": [
      "1 block dari 30 block\n"
     ]
    },
    {
     "name": "stdout",
     "output_type": "stream",
     "text": [
      "2 block dari 30 block\n"
     ]
    },
    {
     "name": "stdout",
     "output_type": "stream",
     "text": [
      "3 block dari 30 block\n"
     ]
    },
    {
     "name": "stdout",
     "output_type": "stream",
     "text": [
      "4 block dari 30 block\n"
     ]
    },
    {
     "name": "stdout",
     "output_type": "stream",
     "text": [
      "5 block dari 30 block\n"
     ]
    },
    {
     "name": "stdout",
     "output_type": "stream",
     "text": [
      "6 block dari 30 block\n"
     ]
    },
    {
     "name": "stdout",
     "output_type": "stream",
     "text": [
      "7 block dari 30 block\n"
     ]
    },
    {
     "name": "stdout",
     "output_type": "stream",
     "text": [
      "8 block dari 30 block\n"
     ]
    },
    {
     "name": "stdout",
     "output_type": "stream",
     "text": [
      "9 block dari 30 block\n"
     ]
    },
    {
     "name": "stdout",
     "output_type": "stream",
     "text": [
      "10 block dari 30 block\n"
     ]
    },
    {
     "name": "stdout",
     "output_type": "stream",
     "text": [
      "11 block dari 30 block\n"
     ]
    },
    {
     "name": "stdout",
     "output_type": "stream",
     "text": [
      "12 block dari 30 block\n"
     ]
    },
    {
     "name": "stdout",
     "output_type": "stream",
     "text": [
      "13 block dari 30 block\n"
     ]
    },
    {
     "name": "stdout",
     "output_type": "stream",
     "text": [
      "14 block dari 30 block\n"
     ]
    },
    {
     "name": "stdout",
     "output_type": "stream",
     "text": [
      "15 block dari 30 block\n"
     ]
    },
    {
     "name": "stdout",
     "output_type": "stream",
     "text": [
      "16 block dari 30 block\n"
     ]
    },
    {
     "name": "stdout",
     "output_type": "stream",
     "text": [
      "17 block dari 30 block\n"
     ]
    },
    {
     "name": "stdout",
     "output_type": "stream",
     "text": [
      "18 block dari 30 block\n"
     ]
    },
    {
     "name": "stdout",
     "output_type": "stream",
     "text": [
      "19 block dari 30 block\n"
     ]
    },
    {
     "name": "stdout",
     "output_type": "stream",
     "text": [
      "20 block dari 30 block\n"
     ]
    },
    {
     "name": "stdout",
     "output_type": "stream",
     "text": [
      "21 block dari 30 block\n"
     ]
    },
    {
     "name": "stdout",
     "output_type": "stream",
     "text": [
      "22 block dari 30 block\n"
     ]
    },
    {
     "name": "stdout",
     "output_type": "stream",
     "text": [
      "23 block dari 30 block\n"
     ]
    },
    {
     "name": "stdout",
     "output_type": "stream",
     "text": [
      "24 block dari 30 block\n"
     ]
    },
    {
     "name": "stdout",
     "output_type": "stream",
     "text": [
      "25 block dari 30 block\n"
     ]
    },
    {
     "name": "stdout",
     "output_type": "stream",
     "text": [
      "26 block dari 30 block\n"
     ]
    },
    {
     "name": "stdout",
     "output_type": "stream",
     "text": [
      "27 block dari 30 block\n"
     ]
    },
    {
     "name": "stdout",
     "output_type": "stream",
     "text": [
      "28 block dari 30 block\n"
     ]
    },
    {
     "name": "stdout",
     "output_type": "stream",
     "text": [
      "29 block dari 30 block\n"
     ]
    },
    {
     "name": "stdout",
     "output_type": "stream",
     "text": [
      "30 block dari 30 block\n",
      "dekripsi selesai\n"
     ]
    }
   ],
   "source": [
    "decrypt(\"enc_contoh\",\"privat.npz\")"
   ]
  },
  {
   "cell_type": "code",
   "execution_count": 29,
   "metadata": {
    "collapsed": false
   },
   "outputs": [
    {
     "ename": "BadZipFile",
     "evalue": "Bad offset for central directory",
     "output_type": "error",
     "traceback": [
      "\u001b[0;31m---------------------------------------------------------------------------\u001b[0m",
      "\u001b[0;31mBadZipFile\u001b[0m                                Traceback (most recent call last)",
      "Input \u001b[0;32mIn [29]\u001b[0m, in \u001b[0;36m<cell line: 1>\u001b[0;34m()\u001b[0m\n\u001b[0;32m----> 1\u001b[0m key \u001b[38;5;241m=\u001b[39m \u001b[43mnp\u001b[49m\u001b[38;5;241;43m.\u001b[39;49m\u001b[43mload\u001b[49m\u001b[43m(\u001b[49m\u001b[38;5;124;43m\"\u001b[39;49m\u001b[38;5;124;43mprivat.npz\u001b[39;49m\u001b[38;5;124;43m\"\u001b[39;49m\u001b[43m,\u001b[49m\u001b[43mallow_pickle\u001b[49m\u001b[38;5;241;43m=\u001b[39;49m\u001b[38;5;28;43;01mTrue\u001b[39;49;00m\u001b[43m)\u001b[49m\n\u001b[1;32m      2\u001b[0m Sinv \u001b[38;5;241m=\u001b[39m matrix(GF(\u001b[38;5;241m2\u001b[39m),key[\u001b[38;5;124m'\u001b[39m\u001b[38;5;124ms1\u001b[39m\u001b[38;5;124m'\u001b[39m])\n\u001b[1;32m      3\u001b[0m Pinv \u001b[38;5;241m=\u001b[39m matrix(GF(\u001b[38;5;241m2\u001b[39m),key[\u001b[38;5;124m'\u001b[39m\u001b[38;5;124mp1\u001b[39m\u001b[38;5;124m'\u001b[39m])\n",
      "File \u001b[0;32m/ext/sage/9.7/local/var/lib/sage/venv-python3.10.5/lib/python3.10/site-packages/numpy/lib/npyio.py:422\u001b[0m, in \u001b[0;36mload\u001b[0;34m(file, mmap_mode, allow_pickle, fix_imports, encoding)\u001b[0m\n\u001b[1;32m    418\u001b[0m \u001b[38;5;28;01mif\u001b[39;00m magic\u001b[38;5;241m.\u001b[39mstartswith(_ZIP_PREFIX) \u001b[38;5;129;01mor\u001b[39;00m magic\u001b[38;5;241m.\u001b[39mstartswith(_ZIP_SUFFIX):\n\u001b[1;32m    419\u001b[0m     \u001b[38;5;66;03m# zip-file (assume .npz)\u001b[39;00m\n\u001b[1;32m    420\u001b[0m     \u001b[38;5;66;03m# Potentially transfer file ownership to NpzFile\u001b[39;00m\n\u001b[1;32m    421\u001b[0m     stack\u001b[38;5;241m.\u001b[39mpop_all()\n\u001b[0;32m--> 422\u001b[0m     ret \u001b[38;5;241m=\u001b[39m \u001b[43mNpzFile\u001b[49m\u001b[43m(\u001b[49m\u001b[43mfid\u001b[49m\u001b[43m,\u001b[49m\u001b[43m \u001b[49m\u001b[43mown_fid\u001b[49m\u001b[38;5;241;43m=\u001b[39;49m\u001b[43mown_fid\u001b[49m\u001b[43m,\u001b[49m\u001b[43m \u001b[49m\u001b[43mallow_pickle\u001b[49m\u001b[38;5;241;43m=\u001b[39;49m\u001b[43mallow_pickle\u001b[49m\u001b[43m,\u001b[49m\n\u001b[1;32m    423\u001b[0m \u001b[43m                  \u001b[49m\u001b[43mpickle_kwargs\u001b[49m\u001b[38;5;241;43m=\u001b[39;49m\u001b[43mpickle_kwargs\u001b[49m\u001b[43m)\u001b[49m\n\u001b[1;32m    424\u001b[0m     \u001b[38;5;28;01mreturn\u001b[39;00m ret\n\u001b[1;32m    425\u001b[0m \u001b[38;5;28;01melif\u001b[39;00m magic \u001b[38;5;241m==\u001b[39m \u001b[38;5;28mformat\u001b[39m\u001b[38;5;241m.\u001b[39mMAGIC_PREFIX:\n\u001b[1;32m    426\u001b[0m     \u001b[38;5;66;03m# .npy file\u001b[39;00m\n",
      "File \u001b[0;32m/ext/sage/9.7/local/var/lib/sage/venv-python3.10.5/lib/python3.10/site-packages/numpy/lib/npyio.py:178\u001b[0m, in \u001b[0;36mNpzFile.__init__\u001b[0;34m(self, fid, own_fid, allow_pickle, pickle_kwargs)\u001b[0m\n\u001b[1;32m    174\u001b[0m \u001b[38;5;28;01mdef\u001b[39;00m \u001b[38;5;21m__init__\u001b[39m(\u001b[38;5;28mself\u001b[39m, fid, own_fid\u001b[38;5;241m=\u001b[39m\u001b[38;5;28;01mFalse\u001b[39;00m, allow_pickle\u001b[38;5;241m=\u001b[39m\u001b[38;5;28;01mFalse\u001b[39;00m,\n\u001b[1;32m    175\u001b[0m              pickle_kwargs\u001b[38;5;241m=\u001b[39m\u001b[38;5;28;01mNone\u001b[39;00m):\n\u001b[1;32m    176\u001b[0m     \u001b[38;5;66;03m# Import is postponed to here since zipfile depends on gzip, an\u001b[39;00m\n\u001b[1;32m    177\u001b[0m     \u001b[38;5;66;03m# optional component of the so-called standard library.\u001b[39;00m\n\u001b[0;32m--> 178\u001b[0m     _zip \u001b[38;5;241m=\u001b[39m \u001b[43mzipfile_factory\u001b[49m\u001b[43m(\u001b[49m\u001b[43mfid\u001b[49m\u001b[43m)\u001b[49m\n\u001b[1;32m    179\u001b[0m     \u001b[38;5;28mself\u001b[39m\u001b[38;5;241m.\u001b[39m_files \u001b[38;5;241m=\u001b[39m _zip\u001b[38;5;241m.\u001b[39mnamelist()\n\u001b[1;32m    180\u001b[0m     \u001b[38;5;28mself\u001b[39m\u001b[38;5;241m.\u001b[39mfiles \u001b[38;5;241m=\u001b[39m []\n",
      "File \u001b[0;32m/ext/sage/9.7/local/var/lib/sage/venv-python3.10.5/lib/python3.10/site-packages/numpy/lib/npyio.py:101\u001b[0m, in \u001b[0;36mzipfile_factory\u001b[0;34m(file, *args, **kwargs)\u001b[0m\n\u001b[1;32m     99\u001b[0m \u001b[38;5;28;01mimport\u001b[39;00m \u001b[38;5;21;01mzipfile\u001b[39;00m\n\u001b[1;32m    100\u001b[0m kwargs[\u001b[38;5;124m'\u001b[39m\u001b[38;5;124mallowZip64\u001b[39m\u001b[38;5;124m'\u001b[39m] \u001b[38;5;241m=\u001b[39m \u001b[38;5;28;01mTrue\u001b[39;00m\n\u001b[0;32m--> 101\u001b[0m \u001b[38;5;28;01mreturn\u001b[39;00m \u001b[43mzipfile\u001b[49m\u001b[38;5;241;43m.\u001b[39;49m\u001b[43mZipFile\u001b[49m\u001b[43m(\u001b[49m\u001b[43mfile\u001b[49m\u001b[43m,\u001b[49m\u001b[43m \u001b[49m\u001b[38;5;241;43m*\u001b[39;49m\u001b[43margs\u001b[49m\u001b[43m,\u001b[49m\u001b[43m \u001b[49m\u001b[38;5;241;43m*\u001b[39;49m\u001b[38;5;241;43m*\u001b[39;49m\u001b[43mkwargs\u001b[49m\u001b[43m)\u001b[49m\n",
      "File \u001b[0;32m/ext/sage/9.7/local/var/lib/sage/venv-python3.10.5/lib/python3.10/zipfile.py:1267\u001b[0m, in \u001b[0;36mZipFile.__init__\u001b[0;34m(self, file, mode, compression, allowZip64, compresslevel, strict_timestamps)\u001b[0m\n\u001b[1;32m   1265\u001b[0m \u001b[38;5;28;01mtry\u001b[39;00m:\n\u001b[1;32m   1266\u001b[0m     \u001b[38;5;28;01mif\u001b[39;00m mode \u001b[38;5;241m==\u001b[39m \u001b[38;5;124m'\u001b[39m\u001b[38;5;124mr\u001b[39m\u001b[38;5;124m'\u001b[39m:\n\u001b[0;32m-> 1267\u001b[0m         \u001b[38;5;28;43mself\u001b[39;49m\u001b[38;5;241;43m.\u001b[39;49m\u001b[43m_RealGetContents\u001b[49m\u001b[43m(\u001b[49m\u001b[43m)\u001b[49m\n\u001b[1;32m   1268\u001b[0m     \u001b[38;5;28;01melif\u001b[39;00m mode \u001b[38;5;129;01min\u001b[39;00m (\u001b[38;5;124m'\u001b[39m\u001b[38;5;124mw\u001b[39m\u001b[38;5;124m'\u001b[39m, \u001b[38;5;124m'\u001b[39m\u001b[38;5;124mx\u001b[39m\u001b[38;5;124m'\u001b[39m):\n\u001b[1;32m   1269\u001b[0m         \u001b[38;5;66;03m# set the modified flag so central directory gets written\u001b[39;00m\n\u001b[1;32m   1270\u001b[0m         \u001b[38;5;66;03m# even if no files are added to the archive\u001b[39;00m\n\u001b[1;32m   1271\u001b[0m         \u001b[38;5;28mself\u001b[39m\u001b[38;5;241m.\u001b[39m_didModify \u001b[38;5;241m=\u001b[39m \u001b[38;5;28;01mTrue\u001b[39;00m\n",
      "File \u001b[0;32m/ext/sage/9.7/local/var/lib/sage/venv-python3.10.5/lib/python3.10/zipfile.py:1353\u001b[0m, in \u001b[0;36mZipFile._RealGetContents\u001b[0;34m(self)\u001b[0m\n\u001b[1;32m   1351\u001b[0m \u001b[38;5;28mself\u001b[39m\u001b[38;5;241m.\u001b[39mstart_dir \u001b[38;5;241m=\u001b[39m offset_cd \u001b[38;5;241m+\u001b[39m concat\n\u001b[1;32m   1352\u001b[0m \u001b[38;5;28;01mif\u001b[39;00m \u001b[38;5;28mself\u001b[39m\u001b[38;5;241m.\u001b[39mstart_dir \u001b[38;5;241m<\u001b[39m \u001b[38;5;241m0\u001b[39m:\n\u001b[0;32m-> 1353\u001b[0m     \u001b[38;5;28;01mraise\u001b[39;00m BadZipFile(\u001b[38;5;124m\"\u001b[39m\u001b[38;5;124mBad offset for central directory\u001b[39m\u001b[38;5;124m\"\u001b[39m)\n\u001b[1;32m   1354\u001b[0m fp\u001b[38;5;241m.\u001b[39mseek(\u001b[38;5;28mself\u001b[39m\u001b[38;5;241m.\u001b[39mstart_dir, \u001b[38;5;241m0\u001b[39m)\n\u001b[1;32m   1355\u001b[0m data \u001b[38;5;241m=\u001b[39m fp\u001b[38;5;241m.\u001b[39mread(size_cd)\n",
      "\u001b[0;31mBadZipFile\u001b[0m: Bad offset for central directory"
     ]
    }
   ],
   "source": [
    "key = np.load(\"privat.npz\",allow_pickle=True)\n",
    "Sinv = matrix(GF(2),key['s1'])\n",
    "Pinv = matrix(GF(2),key['p1'])\n",
    "print(Sinv)"
   ]
  }
 ],
 "metadata": {
  "kernelspec": {
   "argv": [
    "sage",
    "-python",
    "-m",
    "ipykernel",
    "--matplotlib=inline",
    "-c",
    "%config InlineBackend.figure_formats = set(['retina'])\nimport matplotlib; matplotlib.rcParams['figure.figsize'] = (12, 7)",
    "-f",
    "{connection_file}"
   ],
   "display_name": "Python 3 (SageMath)",
   "env": {
   },
   "language": "python",
   "metadata": {
    "cocalc": {
     "description": "The Python 3 interpreter included in SageMath",
     "priority": 1,
     "url": "https://www.python.org/"
    }
   },
   "name": "python3-sage",
   "resource_dir": "/ext/jupyter/kernels/python3-sage"
  },
  "language_info": {
   "codemirror_mode": {
    "name": "ipython",
    "version": 3
   },
   "file_extension": ".py",
   "mimetype": "text/x-python",
   "name": "python",
   "nbconvert_exporter": "python",
   "pygments_lexer": "ipython3",
   "version": "3.11.1"
  }
 },
 "nbformat": 4,
 "nbformat_minor": 4
}